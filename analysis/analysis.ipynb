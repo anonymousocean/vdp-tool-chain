{
 "cells": [
  {
   "cell_type": "code",
   "execution_count": 1,
   "source": [
    "%load_ext autoreload\n",
    "%autoreload 2\n",
    "import os\n",
    "import pandas as pd\n",
    "import numpy as np\n",
    "import matplotlib.pyplot as plt\n",
    "import seaborn as sns\n",
    "import torch\n",
    "import pickle\n",
    "from io import StringIO\n",
    "from utils import *\n",
    "import sys\n",
    "sys.path.append(\"/home/ubuntu/vdp-tool-chain-repo/utils\")\n",
    "from common import pz_partition, read_pickle, yolo_pzname_to_name\n",
    "from train_clevr import VAE\n",
    "from train_puzzles import PrototypeVAE\n",
    "import itertools\n",
    "from tqdm.auto import tqdm\n",
    "device = torch.device(\"cuda:0\")\n",
    "# sns.set()"
   ],
   "outputs": [],
   "metadata": {}
  },
  {
   "cell_type": "code",
   "execution_count": 2,
   "source": [
    "train_on = list(filter(lambda x: not x[1] , pz_partition.keys()))\n",
    "images = VDPImage(\"../data/clevr-cleaned-variants\", to_run)\n",
    "# training_idxs = list(itertools.chain(*[list(range(l, h + 1)) for l, h in map(lambda x : pz_partition[x], train_on)]))\n",
    "training_idxs = list(range(0, 825))\n",
    "allpuzzles = torch.utils.data.Subset(images, training_idxs)\n",
    "allpuzzles = DataLoader(allpuzzles, batch_size=1)\n",
    "\n"
   ],
   "outputs": [],
   "metadata": {}
  },
  {
   "cell_type": "code",
   "execution_count": 3,
   "source": [
    "# set([os.path.basename(os.path.dirname(pth[0])) for (x, y, pth) in (allpuzzles)])\n"
   ],
   "outputs": [],
   "metadata": {}
  },
  {
   "cell_type": "code",
   "execution_count": 11,
   "source": [
    "height = 320\n",
    "model_str = f\"again-cifar-puzzle-prototype-net-{height}-final\"\n",
    "model_vae = VAE(height).from_pretrained(\"cifar10-resnet18\")\n",
    "# model_vae = model_vae.load_from_checkpoint(f\"../data/prototype/puzzle-pretrained-vae-320-final.ckpt\", strict=False, input_height=height)\n",
    "model = PrototypeVAE(model_vae)\n",
    "model = model.load_from_checkpoint(f\"../data/prototype/{model_str}.ckpt\", strict=False, vae_model=model_vae)\n",
    "model = model.to(device)"
   ],
   "outputs": [],
   "metadata": {}
  },
  {
   "cell_type": "code",
   "execution_count": 12,
   "source": [
    "# with the vae pretraining\n",
    "\n",
    "vae_preds = list()\n",
    "tqdmiter = tqdm(allpuzzles)\n",
    "for (x, y, pth) in tqdmiter:\n",
    "    pred = model.forward_naive((x.to(device).squeeze(), y.to(device)))\n",
    "    vae_preds.append((pth, y[0][pred.item()] == 0. ))\n",
    "    # vae_preds.append((pth, torch.Tensor([True]) ))\n",
    "    tqdmiter.set_description(f\"Accuracy: {sum(map(lambda x: x[1], vae_preds) ) / len(vae_preds)}\")\n",
    "\n",
    "sum(map(lambda x: x[1], vae_preds) ) / len(vae_preds)\n",
    "\n",
    "# 39.8 accuracy with old score\n",
    "# 29.09 accuracy with new score\n"
   ],
   "outputs": [
    {
     "output_type": "display_data",
     "data": {
      "application/vnd.jupyter.widget-view+json": {
       "version_major": 2,
       "version_minor": 0,
       "model_id": "61a2f1155bec40cab79692e414fdb099"
      },
      "text/plain": [
       "  0%|          | 0/825 [00:00<?, ?it/s]"
      ]
     },
     "metadata": {}
    },
    {
     "output_type": "execute_result",
     "data": {
      "text/plain": [
       "tensor(0.3867)"
      ]
     },
     "metadata": {},
     "execution_count": 12
    }
   ],
   "metadata": {}
  },
  {
   "cell_type": "code",
   "execution_count": 13,
   "source": [
    "cleaned_vae_preds = [(os.path.basename(os.path.dirname(x[0])), os.path.basename(x[0]), x[0], y.item()) for (x, y) in vae_preds]\n",
    "with open(f\"{model_str}-results.pkl\", \"wb\") as fp:\n",
    "    pickle.dump(cleaned_vae_preds, fp)\n",
    "\n",
    "cleaned_vae_preds = read_pickle(f\"{model_str}-results.pkl\")\n",
    "\n",
    "vae_df = pd.DataFrame(cleaned_vae_preds, columns=['puzzle_name', 'variant', 'pth', 'is_correct'])\n",
    "vae_df['pth'] = vae_df['pth'].str.replace(\"../data\", \"data\")\n",
    "\n",
    "vae_df.head()"
   ],
   "outputs": [
    {
     "output_type": "stream",
     "name": "stderr",
     "text": [
      "/home/ubuntu/anaconda3/envs/torch/lib/python3.7/site-packages/ipykernel_launcher.py:8: FutureWarning: The default value of regex will change from True to False in a future version.\n",
      "  \n"
     ]
    },
    {
     "output_type": "execute_result",
     "data": {
      "text/html": [
       "<div>\n",
       "<style scoped>\n",
       "    .dataframe tbody tr th:only-of-type {\n",
       "        vertical-align: middle;\n",
       "    }\n",
       "\n",
       "    .dataframe tbody tr th {\n",
       "        vertical-align: top;\n",
       "    }\n",
       "\n",
       "    .dataframe thead th {\n",
       "        text-align: right;\n",
       "    }\n",
       "</style>\n",
       "<table border=\"1\" class=\"dataframe\">\n",
       "  <thead>\n",
       "    <tr style=\"text-align: right;\">\n",
       "      <th></th>\n",
       "      <th>puzzle_name</th>\n",
       "      <th>variant</th>\n",
       "      <th>pth</th>\n",
       "      <th>is_correct</th>\n",
       "    </tr>\n",
       "  </thead>\n",
       "  <tbody>\n",
       "    <tr>\n",
       "      <th>0</th>\n",
       "      <td>agreement</td>\n",
       "      <td>fovariant-0</td>\n",
       "      <td>data/clevr-cleaned-variants/agreement/fovariant-0</td>\n",
       "      <td>True</td>\n",
       "    </tr>\n",
       "    <tr>\n",
       "      <th>1</th>\n",
       "      <td>agreement</td>\n",
       "      <td>fovariant-1</td>\n",
       "      <td>data/clevr-cleaned-variants/agreement/fovariant-1</td>\n",
       "      <td>True</td>\n",
       "    </tr>\n",
       "    <tr>\n",
       "      <th>2</th>\n",
       "      <td>agreement</td>\n",
       "      <td>fovariant-10</td>\n",
       "      <td>data/clevr-cleaned-variants/agreement/fovarian...</td>\n",
       "      <td>True</td>\n",
       "    </tr>\n",
       "    <tr>\n",
       "      <th>3</th>\n",
       "      <td>agreement</td>\n",
       "      <td>fovariant-11</td>\n",
       "      <td>data/clevr-cleaned-variants/agreement/fovarian...</td>\n",
       "      <td>True</td>\n",
       "    </tr>\n",
       "    <tr>\n",
       "      <th>4</th>\n",
       "      <td>agreement</td>\n",
       "      <td>fovariant-12</td>\n",
       "      <td>data/clevr-cleaned-variants/agreement/fovarian...</td>\n",
       "      <td>False</td>\n",
       "    </tr>\n",
       "  </tbody>\n",
       "</table>\n",
       "</div>"
      ],
      "text/plain": [
       "  puzzle_name       variant  \\\n",
       "0   agreement   fovariant-0   \n",
       "1   agreement   fovariant-1   \n",
       "2   agreement  fovariant-10   \n",
       "3   agreement  fovariant-11   \n",
       "4   agreement  fovariant-12   \n",
       "\n",
       "                                                 pth  is_correct  \n",
       "0  data/clevr-cleaned-variants/agreement/fovariant-0        True  \n",
       "1  data/clevr-cleaned-variants/agreement/fovariant-1        True  \n",
       "2  data/clevr-cleaned-variants/agreement/fovarian...        True  \n",
       "3  data/clevr-cleaned-variants/agreement/fovarian...        True  \n",
       "4  data/clevr-cleaned-variants/agreement/fovarian...       False  "
      ]
     },
     "metadata": {},
     "execution_count": 13
    }
   ],
   "metadata": {}
  },
  {
   "cell_type": "code",
   "execution_count": 14,
   "source": [
    "\n",
    "# preds = list()\n",
    "# tqdmiter = tqdm(allpuzzles)\n",
    "# for (x, y, pth) in tqdmiter:\n",
    "#     pred = model.forward_naive((x.to(device).squeeze(), y.to(device)))\n",
    "#     preds.append((pth, y[0][pred.item()] == 0. ))\n",
    "#     # preds.append((pth, torch.Tensor([True]) ))\n",
    "#     tqdmiter.set_description(f\"Accuracy: {sum(map(lambda x: x[1], preds) ) / len(preds)}\")\n",
    "\n",
    "# sum(map(lambda x: x[1], preds) ) / len(preds)\n",
    "\n",
    "# # $ 40.2 % before new loss"
   ],
   "outputs": [],
   "metadata": {}
  },
  {
   "cell_type": "code",
   "execution_count": 15,
   "source": [
    "# cleaned_preds = [(os.path.basename(os.path.dirname(x[0])), os.path.basename(x[0]), x[0], y.item()) for (x, y) in preds]\n",
    "# # with open(f\"{model_str}-results.pkl\", \"wb\") as fp:\n",
    "# #     pickle.dump(cleaned_preds, fp)\n",
    "\n",
    "# df = pd.DataFrame(cleaned_preds, columns=['puzzle_name', 'variant', 'pth', 'is_correct'])\n",
    "# df['pth'] = df['pth'].str.replace(\"../data\", \"data\")\n",
    "\n",
    "# df.head()"
   ],
   "outputs": [],
   "metadata": {}
  },
  {
   "cell_type": "code",
   "execution_count": 16,
   "source": [
    "with open(\"baseline_solver_preds.pkl\", \"rb\") as fp:\n",
    "    baseline_solver_preds = pickle.load(fp)\n",
    "bs_df = pd.DataFrame(baseline_solver_preds, columns=[\"puzzle_name\", \"variant\", \"pth\", \"baseline\", \"solver\"])\n",
    "bs_df['baseline'] = (bs_df['baseline'] == 0)\n",
    "bs_df['solver'] = (bs_df['solver'] == 0)\n",
    "bs_df.head()"
   ],
   "outputs": [
    {
     "output_type": "execute_result",
     "data": {
      "text/html": [
       "<div>\n",
       "<style scoped>\n",
       "    .dataframe tbody tr th:only-of-type {\n",
       "        vertical-align: middle;\n",
       "    }\n",
       "\n",
       "    .dataframe tbody tr th {\n",
       "        vertical-align: top;\n",
       "    }\n",
       "\n",
       "    .dataframe thead th {\n",
       "        text-align: right;\n",
       "    }\n",
       "</style>\n",
       "<table border=\"1\" class=\"dataframe\">\n",
       "  <thead>\n",
       "    <tr style=\"text-align: right;\">\n",
       "      <th></th>\n",
       "      <th>puzzle_name</th>\n",
       "      <th>variant</th>\n",
       "      <th>pth</th>\n",
       "      <th>baseline</th>\n",
       "      <th>solver</th>\n",
       "    </tr>\n",
       "  </thead>\n",
       "  <tbody>\n",
       "    <tr>\n",
       "      <th>0</th>\n",
       "      <td>apocope</td>\n",
       "      <td>fovariant-5-swap5</td>\n",
       "      <td>data/clevr-cleaned-variants/apocope/fovariant-...</td>\n",
       "      <td>False</td>\n",
       "      <td>True</td>\n",
       "    </tr>\n",
       "    <tr>\n",
       "      <th>1</th>\n",
       "      <td>apocope</td>\n",
       "      <td>fovariant-1</td>\n",
       "      <td>data/clevr-cleaned-variants/apocope/fovariant-1</td>\n",
       "      <td>False</td>\n",
       "      <td>True</td>\n",
       "    </tr>\n",
       "    <tr>\n",
       "      <th>2</th>\n",
       "      <td>apocope</td>\n",
       "      <td>fovariant-0</td>\n",
       "      <td>data/clevr-cleaned-variants/apocope/fovariant-0</td>\n",
       "      <td>True</td>\n",
       "      <td>True</td>\n",
       "    </tr>\n",
       "    <tr>\n",
       "      <th>3</th>\n",
       "      <td>apocope</td>\n",
       "      <td>fovariant-16-swap4</td>\n",
       "      <td>data/clevr-cleaned-variants/apocope/fovariant-...</td>\n",
       "      <td>False</td>\n",
       "      <td>True</td>\n",
       "    </tr>\n",
       "    <tr>\n",
       "      <th>4</th>\n",
       "      <td>apocope</td>\n",
       "      <td>fovariant-8</td>\n",
       "      <td>data/clevr-cleaned-variants/apocope/fovariant-8</td>\n",
       "      <td>True</td>\n",
       "      <td>True</td>\n",
       "    </tr>\n",
       "  </tbody>\n",
       "</table>\n",
       "</div>"
      ],
      "text/plain": [
       "  puzzle_name             variant  \\\n",
       "0     apocope   fovariant-5-swap5   \n",
       "1     apocope         fovariant-1   \n",
       "2     apocope         fovariant-0   \n",
       "3     apocope  fovariant-16-swap4   \n",
       "4     apocope         fovariant-8   \n",
       "\n",
       "                                                 pth  baseline  solver  \n",
       "0  data/clevr-cleaned-variants/apocope/fovariant-...     False    True  \n",
       "1    data/clevr-cleaned-variants/apocope/fovariant-1     False    True  \n",
       "2    data/clevr-cleaned-variants/apocope/fovariant-0      True    True  \n",
       "3  data/clevr-cleaned-variants/apocope/fovariant-...     False    True  \n",
       "4    data/clevr-cleaned-variants/apocope/fovariant-8      True    True  "
      ]
     },
     "metadata": {},
     "execution_count": 16
    }
   ],
   "metadata": {}
  },
  {
   "cell_type": "code",
   "execution_count": 17,
   "source": [
    "results = vae_df.merge(bs_df, on='pth')\n",
    "\n",
    "assert all(results['puzzle_name_x'] == results['puzzle_name_y'])\n",
    "assert all(results['variant_x'] == results['variant_y'])\n",
    "\n",
    "results['count'] = results.groupby(['puzzle_name_x'])['variant_x'].transform(\"count\")\n",
    "results['indexlabel'] = results.apply(lambda row: f\"{row.name}\", axis=1)\n",
    "results['xlabel'] = results.apply(lambda row: f\"{row['puzzle_name_x']}\\n(N={row['count']})\", axis=1)\n",
    "results.groupby(\"puzzle_name_x\")['is_correct'].count()\n"
   ],
   "outputs": [
    {
     "output_type": "execute_result",
     "data": {
      "text/plain": [
       "puzzle_name_x\n",
       "agreement           25\n",
       "alternate-color     25\n",
       "alternation        100\n",
       "aphaeresis          25\n",
       "apocope             75\n",
       "assimilation       100\n",
       "breaking            50\n",
       "circle-at-ends      50\n",
       "devoicing           50\n",
       "meeussen            25\n",
       "partition           25\n",
       "shield             100\n",
       "spy                 75\n",
       "threepack           50\n",
       "train               50\n",
       "Name: is_correct, dtype: int64"
      ]
     },
     "metadata": {},
     "execution_count": 17
    }
   ],
   "metadata": {}
  },
  {
   "cell_type": "code",
   "execution_count": 18,
   "source": [
    "# sns.set()\n",
    "result = results[['xlabel', 'count', 'indexlabel', 'variant_x', 'baseline', 'solver', 'is_correct']].rename(columns={\n",
    "                                                                                    'xlabel':'puzzle_name',\n",
    "                                                                                    'indexlabel' : 'pz_number',\n",
    "                                                                                    'variant_x':'variant',\n",
    "                                                                                    'is_correct':'C',\n",
    "                                                                                    'count' : 'count',\n",
    "                                                                                    'baseline':'A',\n",
    "                                                                                    'solver':'B',\n",
    "})\n",
    "\n",
    "\n",
    "fig = plt.figure(figsize=(20, 4))\n",
    "ax = fig.add_subplot(111)\n",
    "\n",
    "barcont = (result.groupby(['puzzle_name'])[['A', 'B', 'C']].mean() * 100) .plot.bar(ax=ax)\n",
    "ax.axhline(33.33, linestyle='--', color='red')\n",
    "plt.text(-1.1, 31.33, \"random\", c=\"r\", ha=\"left\", va='center', alpha=1)\n",
    "# ax.annotate('average',(-0.4,23.5))\n",
    "ax.legend(loc='upper right', bbox_to_anchor=(1, 1.125),\n",
    "          ncol=3, fancybox=False, shadow=False)\n",
    "\n",
    "# ax.set_xticklabels(result.groupby(['puzzle_name']).mean().index)\n",
    "\n",
    "# bar1 = plt.bar(np.arange(len(errorRateListOfFast)) + bar_width, errorRateListOfFast, bar_width, align='center', alpha=opacity, color='b', label='Fast <= 6 sec.')\n",
    "\n",
    "# Add counts above the two bar graphs\n",
    "count_puzzles= result.groupby(['puzzle_name'])['count'].max().tolist()\n",
    "max_height = max([rect.get_height() for rect in barcont.containers[1]])\n",
    "for i, rect in enumerate(barcont.containers[1]):\n",
    "    # height = rect.get_height()\n",
    "    plt.text(rect.get_x() + rect.get_width() / 2.0, max_height, f'N = {count_puzzles[i]}', ha='center', va='bottom', c='dimgray', fontsize=9)\n",
    "\n",
    "\n",
    "\n",
    "labels = list(map(lambda i : str(i), range(len(result.groupby(['puzzle_name']).mean().index))))\n",
    "ax.set_xticklabels(labels)\n",
    "plt.xticks(rotation=0, ha='center')\n",
    "\n",
    "plt.xlabel(None)\n",
    "plt.title(\"Percent puzzle variants solved when target candidate is identified correctly\", loc='left')\n",
    "plt.ylabel(\"percent correct\", horizontalalignment='left')\n",
    "plt.show()"
   ],
   "outputs": [
    {
     "output_type": "display_data",
     "data": {
      "image/png": "[encoded data removed]",
      "text/plain": [
       "<Figure size 1440x288 with 1 Axes>"
      ]
     },
     "metadata": {
      "needs_background": "light"
     }
    }
   ],
   "metadata": {}
  },
  {
   "cell_type": "code",
   "execution_count": 19,
   "source": [
    "natscene_df = pd.read_csv(StringIO(\"\"\"puzzle| intended | unintended | incorrect\n",
    "2on1| 53.0 | 11.333333333333343 | 35.666666666666664\n",
    "allcatsonsofas| 36.0 | 18.333333333333343 | 45.666666666666664\n",
    "alldogsonsofas| 14.583333333333334 | 68.75 | 16.666666666666668\n",
    "catontv| 33.333333333333336 | 26.666666666666657 | 40.0\n",
    "desktop| 95.33333333333333 | 4.666666666666671 | 0.0\n",
    "dogherded| 88.75 | 11.25 | 0.0\n",
    "kitchen| 45.5 | 17.5 | 37.0\n",
    "parkmeter| 100.0 | 0.0 | 0.0\n",
    "personball| 100.0 | 0.0 | 0.0\n",
    "populatedbus| 55.0 | 20.0 | 25.0\n",
    "pplwearingties| 28.333333333333332 | 19.33333333333333 | 52.333333333333336\n",
    "sleeping| 71.66666666666667 | 11.666666666666657 | 16.666666666666668\n",
    "umbrella| 52.083333333333336 | 12.916666666666657 | 35.0\n",
    "separatepiles| 50.0 | 0.0 | 50.0\n",
    "truck| 100.0 | 0.0 | 0.0\n",
    "drivingdirection| 100.0 | 0.0 | 0.0\n",
    "middleball| 10.0 | 0.0 | 90.0\n",
    "allteddysonsofas| 87.33333333333333 | 12.666666666666671 | 0.0\n",
    "setplates| 50.666666666666664 | 17.66666666666667 | 31.666666666666668\n",
    "tvon| 0.0 | 0.3333333333333286 | 99.66666666666667\"\"\"), sep=\"|\")\n",
    "\n",
    "natscene_df['puzzle_name'] = natscene_df['puzzle'].map(yolo_pzname_to_name)\n"
   ],
   "outputs": [],
   "metadata": {}
  },
  {
   "cell_type": "code",
   "execution_count": 21,
   "source": [
    "fig = plt.figure(figsize=(8, 6))\n",
    "ax = fig.add_subplot(111)\n",
    "natscene_df.set_index('puzzle_name').plot(kind='barh', stacked=True, ax=ax, color=['#7B9EA7', '#F5DB11', '#C45347'])\n",
    "\n",
    "ax.legend(loc='upper right', bbox_to_anchor=(1, 1.07),\n",
    "          ncol=3, fancybox=False, shadow=False, prop=dict(size=8))\n",
    "\n",
    "\n",
    "# labels = list(map(lambda i : str(i), range(len(natscene_df.index))))\n",
    "# ax.set_xticklabels(labels,)\n",
    "plt.xticks(rotation=0, ha='center')\n",
    "\n",
    "plt.ylabel(None)\n",
    "plt.xlabel(\"percent recovered\")\n",
    "# plt.show()\n",
    "# sns.despine(left=False, bottom=False)\n",
    "# plt.title(\"Title of this graph\", loc='left')\n",
    "# plt.ylabel(\"percent correct\", horizontalalignment='left')\n",
    "plt.show()\n",
    "\n"
   ],
   "outputs": [
    {
     "output_type": "display_data",
     "data": {
      "image/png": "[encoded data removed]",
      "text/plain": [
       "<Figure size 576x432 with 1 Axes>"
      ]
     },
     "metadata": {
      "needs_background": "light"
     }
    }
   ],
   "metadata": {}
  },
  {
   "cell_type": "code",
   "execution_count": null,
   "source": [],
   "outputs": [],
   "metadata": {}
  }
 ],
 "metadata": {
  "orig_nbformat": 4,
  "language_info": {
   "name": "python",
   "version": "3.7.10",
   "mimetype": "text/x-python",
   "codemirror_mode": {
    "name": "ipython",
    "version": 3
   },
   "pygments_lexer": "ipython3",
   "nbconvert_exporter": "python",
   "file_extension": ".py"
  },
  "kernelspec": {
   "name": "python3",
   "display_name": "Python 3.7.10 64-bit ('torch': conda)"
  },
  "interpreter": {
   "hash": "2e5f2bf85d713cf69d9c9205d006287a7870eb41c526ebe7a840b41056c8efbb"
  }
 },
 "nbformat": 4,
 "nbformat_minor": 2
}