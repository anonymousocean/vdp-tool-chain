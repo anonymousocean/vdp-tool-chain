{
 "metadata": {
  "language_info": {
   "codemirror_mode": {
    "name": "ipython",
    "version": 3
   },
   "file_extension": ".py",
   "mimetype": "text/x-python",
   "name": "python",
   "nbconvert_exporter": "python",
   "pygments_lexer": "ipython3",
   "version": "3.7.6-final"
  },
  "orig_nbformat": 2,
  "kernelspec": {
   "name": "python3",
   "display_name": "Python 3",
   "language": "python"
  }
 },
 "nbformat": 4,
 "nbformat_minor": 2,
 "cells": [
  {
   "cell_type": "code",
   "execution_count": 2,
   "metadata": {},
   "outputs": [],
   "source": [
    "import sys\n",
    "import json\n",
    "import os\n",
    "from collections import namedtuple\n",
    "import numpy as np\n",
    "from matplotlib import pyplot as plt\n",
    "\n",
    "def read_json(pth):\n",
    "    with open(pth, 'r') as f:\n",
    "        return json.load(f)\n",
    "\n",
    "def to_json(dct, pth):\n",
    "    with open(pth, 'w') as f:\n",
    "        return json.dump(dct, f)\n",
    "\n",
    "def flip(p=0.5):\n",
    "    return True if np.random.random() < p else False\n",
    "eps = 0.75\n",
    "\n",
    "\n",
    "\n",
    "loc  = lambda s: f\"/home/ubuntu/vdp-tool-chain-repo/clevr-inference/gt_outputs/{s}/results.json\"\n",
    "loc2  = lambda s: f\"/home/ubuntu/vdp-tool-chain-repo/data/inference-outputs/{s}/results.json\"\n",
    "\n"
   ]
  },
  {
   "cell_type": "code",
   "execution_count": 16,
   "metadata": {},
   "outputs": [],
   "source": [
    "mindist = lambda arr : all([abs(a-b) >= 1.0 for a in arr for b in arr if a != b])\n"
   ]
  },
  {
   "cell_type": "code",
   "execution_count": 30,
   "metadata": {},
   "outputs": [
    {
     "output_type": "stream",
     "name": "stdout",
     "text": [
      "[-3.2  2.3]\n[-0.07 -0.07]\n[-2.61  2.89]\n[1. 1.]\n[-3.07 -0.32  2.43]\n[0.51 0.51 0.51]\n[-2.49       -0.65666667  1.17666667  3.01      ]\n[1.1 1.1 1.1 1.1]\n[-2.4   -1.025  0.35   1.725  3.1  ]\n[-0.72 -0.72 -0.72 -0.72 -0.72]\n[-2.55       -0.71666667  1.11666667  2.95      ]\n[0.43 0.43 0.43 0.43]\n[-2.66  2.84]\n[-1.14 -1.14]\n"
     ]
    }
   ],
   "source": [
    "puzzle_loc = loc2('alternate-color') \n",
    "\n",
    "\n",
    "Object = namedtuple('Object', ['x', 'y', 'z', 'size', 'shape', 'color', 'orientation', 'material'])\n",
    "variables = read_json(\"data/properties.json\")\n",
    "\n",
    "material = 'rubber'\n",
    "shape    = 'cylinder'\n",
    "size     = 'large'\n",
    "color    = 'red'\n",
    "\n",
    "\n",
    "imgs = list()\n",
    "dx = lambda : round(np.random.uniform(-0.5, 0.5), 2)\n",
    "dy = lambda : round(np.random.uniform(-1.5, 1.5), 2)\n",
    "\n",
    "puzzle = read_json(puzzle_loc)\n",
    "\n",
    "# print(puzzle)\n",
    "\n",
    "for i, img in enumerate(puzzle['scenes']):\n",
    "    objects = img['objects']\n",
    "    if not len(objects):\n",
    "        continue\n",
    "    num_objects = len(objects)\n",
    "    thetas    = np.zeros(num_objects)\n",
    "    zs = np.zeros(num_objects)\n",
    "    xs = np.array([obj['position'][0] for obj in objects])\n",
    "    ys = np.array([obj['position'][1] for obj in objects])\n",
    "\n",
    "    xs = np.linspace(-2.75, 2.75, num_objects)[np.argsort(xs)] + dx()\n",
    "    ys = np.zeros(num_objects) + dy()\n",
    "\n",
    "    print(xs)\n",
    "    print(ys)\n",
    "\n",
    "    assert(mindist(xs))\n",
    "    assert(mindist(ys))\n",
    "    \n",
    "    \n",
    "    materials = np.array([obj['material'] for obj in objects])\n",
    "    shapes    = np.array([obj['shape'] for obj in objects])\n",
    "    sizes     = np.array([obj['size'] for obj in objects])\n",
    "    colors    = np.array([obj['color'] for obj in objects])\n",
    "\n",
    "    objects = [Object(*tup) for i, tup in enumerate(zip(xs, ys, zs, sizes, shapes, colors, thetas, materials))]\n",
    "\n",
    "    img_dict = { 'objects' : [dict(o._asdict()) for o in objects]}\n",
    "    imgs.append(img_dict)\n",
    "\n",
    "name = os.path.basename(os.path.dirname(puzzle_loc))\n",
    "to_json(imgs, f\"/home/ubuntu/vdp-tool-chain-repo/data/clevr-puzzles/{name}.json\")"
   ]
  },
  {
   "cell_type": "code",
   "execution_count": 49,
   "metadata": {},
   "outputs": [
    {
     "output_type": "stream",
     "name": "stdout",
     "text": [
      "[{'shape': 'cylinder', 'size': 'large', 'material': 'rubber', 'color': 'blue', 'position': [0.4225424826145172, 0.372123122215271, 0.6655023694038391]}, {'shape': 'cylinder', 'size': 'large', 'material': 'rubber', 'color': 'blue', 'position': [-1.7479301691055298, -2.006910800933838, 0.6890091300010681]}, {'shape': 'cylinder', 'size': 'large', 'material': 'rubber', 'color': 'red', 'position': [-0.6452366709709167, -0.8426610827445984, 0.6808547377586365]}, {'shape': 'cylinder', 'size': 'large', 'material': 'rubber', 'color': 'red', 'position': [1.4085478782653809, 1.6661666631698608, 0.6859357953071594]}]\n"
     ]
    },
    {
     "output_type": "error",
     "ename": "IndexError",
     "evalue": "index 4 is out of bounds for axis 0 with size 4",
     "traceback": [
      "\u001b[0;31m---------------------------------------------------------------------------\u001b[0m",
      "\u001b[0;31mIndexError\u001b[0m                                Traceback (most recent call last)",
      "\u001b[0;32m<ipython-input-49-b0d3b0eddc95>\u001b[0m in \u001b[0;36m<module>\u001b[0;34m\u001b[0m\n\u001b[1;32m     27\u001b[0m     \u001b[0mzs\u001b[0m \u001b[0;34m=\u001b[0m \u001b[0mnp\u001b[0m\u001b[0;34m.\u001b[0m\u001b[0mzeros\u001b[0m\u001b[0;34m(\u001b[0m\u001b[0mnum_objects\u001b[0m\u001b[0;34m)\u001b[0m\u001b[0;34m\u001b[0m\u001b[0;34m\u001b[0m\u001b[0m\n\u001b[1;32m     28\u001b[0m \u001b[0;34m\u001b[0m\u001b[0m\n\u001b[0;32m---> 29\u001b[0;31m     \u001b[0mxs\u001b[0m \u001b[0;34m=\u001b[0m \u001b[0mnp\u001b[0m\u001b[0;34m.\u001b[0m\u001b[0mlinspace\u001b[0m\u001b[0;34m(\u001b[0m\u001b[0;34m-\u001b[0m\u001b[0;36m2.5\u001b[0m\u001b[0;34m,\u001b[0m \u001b[0;36m2.5\u001b[0m\u001b[0;34m,\u001b[0m \u001b[0mnum_objects\u001b[0m\u001b[0;34m)\u001b[0m\u001b[0;34m[\u001b[0m\u001b[0mnp\u001b[0m\u001b[0;34m.\u001b[0m\u001b[0margsort\u001b[0m\u001b[0;34m(\u001b[0m\u001b[0mxs\u001b[0m\u001b[0;34m)\u001b[0m\u001b[0;34m]\u001b[0m \u001b[0;34m+\u001b[0m \u001b[0mdx\u001b[0m\u001b[0;34m(\u001b[0m\u001b[0;34m)\u001b[0m\u001b[0;34m\u001b[0m\u001b[0;34m\u001b[0m\u001b[0m\n\u001b[0m\u001b[1;32m     30\u001b[0m     \u001b[0mys\u001b[0m \u001b[0;34m=\u001b[0m \u001b[0mnp\u001b[0m\u001b[0;34m.\u001b[0m\u001b[0mzeros\u001b[0m\u001b[0;34m(\u001b[0m\u001b[0mnum_objects\u001b[0m\u001b[0;34m)\u001b[0m \u001b[0;34m+\u001b[0m \u001b[0mdy\u001b[0m\u001b[0;34m(\u001b[0m\u001b[0;34m)\u001b[0m\u001b[0;34m\u001b[0m\u001b[0;34m\u001b[0m\u001b[0m\n\u001b[1;32m     31\u001b[0m \u001b[0;34m\u001b[0m\u001b[0m\n",
      "\u001b[0;31mIndexError\u001b[0m: index 4 is out of bounds for axis 0 with size 4"
     ]
    }
   ],
   "source": []
  }
 ]
}